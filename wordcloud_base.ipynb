{
 "cells": [
  {
   "cell_type": "code",
   "execution_count": null,
   "metadata": {},
   "outputs": [],
   "source": [
    "import os\n",
    "import numpy as np\n",
    "import matplotlib.pyplot as plt\n",
    "import PIL.Image\n",
    "from wordcloud import WordCloud, STOPWORDS, ImageColorGenerator\n",
    "import pandas as pd\n",
    "\n",
    "plt.figure(figsize=(10,10))\n",
    "\n",
    "df = pd.read_csv('realdonaldtrump.csv')\n",
    "\n",
    "#convert df to text, using selected column\n",
    "text = ' '.join(df['content'])\n",
    "\n",
    "#text = open('realdonaldtrump.csv','r').read()\n",
    "\n",
    "python_mask = np.array(PIL.Image.open('python_logo.png'))\n",
    "\n",
    "colormap = ImageColorGenerator(python_mask)\n",
    "\n",
    "wc = WordCloud(stopwords = STOPWORDS,\n",
    "               mask = python_mask, \n",
    "               background_color = \"white\",\n",
    "               max_words=200).generate(text)\n",
    "\n",
    "wc.recolor(color_func=colormap)\n",
    "\n",
    "plt.imshow(wc)\n",
    "plt.axis(\"off\")\n",
    "plt.show()"
   ]
  },
  {
   "cell_type": "code",
   "execution_count": null,
   "metadata": {},
   "outputs": [],
   "source": []
  },
  {
   "cell_type": "code",
   "execution_count": null,
   "metadata": {},
   "outputs": [],
   "source": []
  }
 ],
 "metadata": {
  "kernelspec": {
   "display_name": "Python 3",
   "language": "python",
   "name": "python3"
  },
  "language_info": {
   "codemirror_mode": {
    "name": "ipython",
    "version": 3
   },
   "file_extension": ".py",
   "mimetype": "text/x-python",
   "name": "python",
   "nbconvert_exporter": "python",
   "pygments_lexer": "ipython3",
   "version": "3.8.5"
  }
 },
 "nbformat": 4,
 "nbformat_minor": 4
}
